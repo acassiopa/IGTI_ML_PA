{
 "metadata": {
  "language_info": {
   "codemirror_mode": {
    "name": "ipython",
    "version": 3
   },
   "file_extension": ".py",
   "mimetype": "text/x-python",
   "name": "python",
   "nbconvert_exporter": "python",
   "pygments_lexer": "ipython3",
   "version": "3.8.8"
  },
  "orig_nbformat": 2,
  "kernelspec": {
   "name": "python388jvsc74a57bd001b3c0a945a59b323df80bd5882d6f2f9fc474040821776379d4f4116ecac8d8",
   "display_name": "Python 3.8.8 64-bit ('base': conda)"
  }
 },
 "nbformat": 4,
 "nbformat_minor": 2,
 "cells": [
  {
   "cell_type": "code",
   "execution_count": 32,
   "metadata": {},
   "outputs": [],
   "source": [
    "from nltk.tokenize import WhitespaceTokenizer\n",
    "from nltk.corpus import stopwords\n",
    "from nltk import RSLPStemmer\n",
    "from nltk import ngrams\n",
    "from pandas import DataFrame, read_csv\n",
    "from string import punctuation\n",
    "from pathlib import Path\n",
    "import re"
   ]
  },
  {
   "source": [
    "### Importa arquivo"
   ],
   "cell_type": "markdown",
   "metadata": {}
  },
  {
   "cell_type": "code",
   "execution_count": 14,
   "metadata": {},
   "outputs": [],
   "source": [
    "news_data_path = Path('../arquivos/news_data_CLS.csv')\n",
    "news_df = read_csv(news_data_path)"
   ]
  },
  {
   "cell_type": "code",
   "execution_count": 16,
   "metadata": {},
   "outputs": [
    {
     "output_type": "execute_result",
     "data": {
      "text/plain": [
       "    code     source                                                url  \\\n",
       "0  BBAS3  InfoMoney  https://www.infomoney.com.br/mercados/dolar-de...   \n",
       "1  BBAS3  InfoMoney  https://www.infomoney.com.br/mercados/vencimen...   \n",
       "2  BBAS3  InfoMoney  https://www.infomoney.com.br/mercados/banco-do...   \n",
       "3  BBAS3  InfoMoney  https://www.infomoney.com.br/mercados/diretori...   \n",
       "4  BBAS3  InfoMoney  https://www.infomoney.com.br/mercados/banco-do...   \n",
       "\n",
       "                                               title                 datetime  \\\n",
       "0  Dólar desacelera queda nesta tarde, com mercad...  2003-06-09 12:05:00.000   \n",
       "1  Vencimentos cambiais e ação do Banco do Brasil...  2003-11-14 13:50:00.000   \n",
       "2  Banco do Brasil reduz juros na antecipação da ...  2004-03-30 09:10:00.000   \n",
       "3  Diretoria de Microcrédito do Banco do Brasil j...  2004-05-25 08:59:00.000   \n",
       "4  Banco do Brasil estreita relações com micro e ...  2004-06-29 14:50:00.000   \n",
       "\n",
       "                                            raw_text  cls_influence  \n",
       "0  SÃO PAULO – Diante das melhores perspectivas p...              1  \n",
       "1  SÃO PAULO – O dólar fechou em alta nesta sexta...             -1  \n",
       "2  São Paulo – O Banco do Brasil anunciou que a p...              1  \n",
       "3  SÃO PAULO – O Banco do Brasil fortaleceu sua a...              1  \n",
       "4  SÃO PAULO – O Banco do Brasil (BB) planeja est...              1  "
      ],
      "text/html": "<div>\n<style scoped>\n    .dataframe tbody tr th:only-of-type {\n        vertical-align: middle;\n    }\n\n    .dataframe tbody tr th {\n        vertical-align: top;\n    }\n\n    .dataframe thead th {\n        text-align: right;\n    }\n</style>\n<table border=\"1\" class=\"dataframe\">\n  <thead>\n    <tr style=\"text-align: right;\">\n      <th></th>\n      <th>code</th>\n      <th>source</th>\n      <th>url</th>\n      <th>title</th>\n      <th>datetime</th>\n      <th>raw_text</th>\n      <th>cls_influence</th>\n    </tr>\n  </thead>\n  <tbody>\n    <tr>\n      <th>0</th>\n      <td>BBAS3</td>\n      <td>InfoMoney</td>\n      <td>https://www.infomoney.com.br/mercados/dolar-de...</td>\n      <td>Dólar desacelera queda nesta tarde, com mercad...</td>\n      <td>2003-06-09 12:05:00.000</td>\n      <td>SÃO PAULO – Diante das melhores perspectivas p...</td>\n      <td>1</td>\n    </tr>\n    <tr>\n      <th>1</th>\n      <td>BBAS3</td>\n      <td>InfoMoney</td>\n      <td>https://www.infomoney.com.br/mercados/vencimen...</td>\n      <td>Vencimentos cambiais e ação do Banco do Brasil...</td>\n      <td>2003-11-14 13:50:00.000</td>\n      <td>SÃO PAULO – O dólar fechou em alta nesta sexta...</td>\n      <td>-1</td>\n    </tr>\n    <tr>\n      <th>2</th>\n      <td>BBAS3</td>\n      <td>InfoMoney</td>\n      <td>https://www.infomoney.com.br/mercados/banco-do...</td>\n      <td>Banco do Brasil reduz juros na antecipação da ...</td>\n      <td>2004-03-30 09:10:00.000</td>\n      <td>São Paulo – O Banco do Brasil anunciou que a p...</td>\n      <td>1</td>\n    </tr>\n    <tr>\n      <th>3</th>\n      <td>BBAS3</td>\n      <td>InfoMoney</td>\n      <td>https://www.infomoney.com.br/mercados/diretori...</td>\n      <td>Diretoria de Microcrédito do Banco do Brasil j...</td>\n      <td>2004-05-25 08:59:00.000</td>\n      <td>SÃO PAULO – O Banco do Brasil fortaleceu sua a...</td>\n      <td>1</td>\n    </tr>\n    <tr>\n      <th>4</th>\n      <td>BBAS3</td>\n      <td>InfoMoney</td>\n      <td>https://www.infomoney.com.br/mercados/banco-do...</td>\n      <td>Banco do Brasil estreita relações com micro e ...</td>\n      <td>2004-06-29 14:50:00.000</td>\n      <td>SÃO PAULO – O Banco do Brasil (BB) planeja est...</td>\n      <td>1</td>\n    </tr>\n  </tbody>\n</table>\n</div>"
     },
     "metadata": {},
     "execution_count": 16
    }
   ],
   "source": [
    "news_df.head()"
   ]
  },
  {
   "cell_type": "code",
   "execution_count": 52,
   "metadata": {},
   "outputs": [
    {
     "output_type": "execute_result",
     "data": {
      "text/plain": [
       "'SÃO PAULO – Diante das melhores perspectivas para a economia brasileira, o dólar comercial segue em queda na tarde desta segunda-feira, com os investidores apostando em novas captações de bancos e empresas brasileiras no mercado externo. Os investidores também seguem atentos aos rumores de uma nova emissão soberana de bônus brasileiros pelo Tesouro Nacional. De acordo com os rumores que começaram a se espalhar pelo mercado na última sexta-feira, o Tesouro estaria preparando uma nova emissão entre US$ 1,0 bilhão e US$ 2,0 bilhões para os próximos dias. Apesar de manter-se em campo negativo, a moeda norte-americana vem desacelerando sua queda no decorrer desta tarde, com os investidores atentos ao comportamento do Banco do Brasil. Na última sexta-feira, rumores davam conta que o BB havia comprado uma grande quantidade de dólares, orientado pelos interesses do Banco Central. Dessa forma, alguns investidores ampliaram as compras de dólares nesta tarde, aproveitando-se também do baixo preço relativo da moeda, fato que condiciona, dessa maneira, a menor queda do dólar. O dólar comercial opera cotado a R$ 2,8750 na compra e R$ 2,8760 na venda,   baixa de 0,48% em relação ao fechamento anterior. No mercado paralelo, a moeda norte-americana opera negociada a R$ 3,0270, representando um ágio de 5,29% em relação ao dólar comercial. Com esta queda, o dólar acumula desvalorização de 3,03% em junho, frente a alta de 1,75% registrada no mês passado. No ano a desvalorização acumulada da moeda norte-americana já chega a 18,96%. Dólar futuro na BM&F Na BM&F, o contrato futuro com vencimento em julho opera cotado a R$ 2.910, leve baixa de 0,14% em relação ao fechamento de R$ 2.914 da última sexta-feira. O contrato com vencimento em agosto, por sua vez, opera em forte alta de 1,73%, atingindo R$ 2.971 frente a R$ 2.921 do fechamento de sexta-feira.'"
      ]
     },
     "metadata": {},
     "execution_count": 52
    }
   ],
   "source": [
    "news_df['raw_text'][0]"
   ]
  },
  {
   "source": [
    "### Define funções para o tratamento dos textos"
   ],
   "cell_type": "markdown",
   "metadata": {}
  },
  {
   "cell_type": "code",
   "execution_count": 25,
   "metadata": {},
   "outputs": [],
   "source": [
    "def tokenize(text: str) -> list:\n",
    "    \"\"\" Divide the text into token \"\"\"\n",
    "    toknzr = WhitespaceTokenizer()\n",
    "    return toknzr.tokenize(text)"
   ]
  },
  {
   "cell_type": "code",
   "execution_count": 21,
   "metadata": {},
   "outputs": [],
   "source": [
    "def remove_pt_stop_words(text: str) -> str:\n",
    "    \"\"\" remove stop words from text in portuguese\"\"\"\n",
    "    stop_words = stopwords.words(\"portuguese\")\n",
    "    no_stop_text = [word for word in text.split() if word not in stop_words]\n",
    "\n",
    "    return ' '.join(no_stop_text)"
   ]
  },
  {
   "cell_type": "code",
   "execution_count": 74,
   "metadata": {},
   "outputs": [],
   "source": [
    "def remove_special_chars(text: str) -> str:\n",
    "    \"\"\" Remove punctuation from text \"\"\"\n",
    "    clean_text = ' '.join(re.findall('[\\w&$]+', text))\n",
    "    clean_text = re.sub('[\\d]|R\\$|US\\$|\\$', ' ', clean_text)\n",
    "    return clean_text"
   ]
  },
  {
   "cell_type": "code",
   "execution_count": 24,
   "metadata": {},
   "outputs": [],
   "source": [
    "def stemmize(tokens: list) -> list:\n",
    "    stemmer = RSLPStemmer()\n",
    "    return [stemmer.stem(tok) for tok in tokens]"
   ]
  },
  {
   "source": [
    "### Aplicação das funções no DataFrame"
   ],
   "cell_type": "markdown",
   "metadata": {}
  },
  {
   "cell_type": "code",
   "execution_count": 75,
   "metadata": {},
   "outputs": [],
   "source": [
    "news_df['prep_text'] = news_df['raw_text'].apply(remove_special_chars)"
   ]
  },
  {
   "cell_type": "code",
   "execution_count": 76,
   "metadata": {},
   "outputs": [],
   "source": [
    "news_df['prep_text'] = news_df['prep_text'].apply(remove_pt_stop_words)"
   ]
  },
  {
   "cell_type": "code",
   "execution_count": 77,
   "metadata": {},
   "outputs": [],
   "source": [
    "news_df['prep_text'] = news_df['prep_text'].apply(tokenize)"
   ]
  },
  {
   "cell_type": "code",
   "execution_count": 78,
   "metadata": {},
   "outputs": [],
   "source": [
    "news_df['prep_text'] = news_df['prep_text'].apply(stemmize)"
   ]
  },
  {
   "cell_type": "code",
   "execution_count": 79,
   "metadata": {},
   "outputs": [],
   "source": [
    "news_df['prep_text'] = news_df['prep_text'].apply(lambda x : ' '.join(x))"
   ]
  },
  {
   "cell_type": "code",
   "execution_count": 80,
   "metadata": {},
   "outputs": [
    {
     "output_type": "execute_result",
     "data": {
      "text/plain": [
       "'são paul di melhor perspec econom brasil dól comerc seg qued tard dest segund feir invest apost nov capt banc empr brasil merc extern os invest segu atent rum nov emiss sober bônu brasil tesour nacion de acord rum começ espalh merc últ sext feir tesour est prepar nov emiss bilhã bilhã próx dia apes mant camp nega moed nort americ vem desaceler qued decorr dest tard invest atent comport banc brasil na últ sext feir rum dav cont bb hav compr grand quant dól orient inter banc centr dess form algum invest ampli compr dól nest tard aproveit baix preç relat moed fat condic dess man men qued dól o dól comerc oper cot compr vend baix relaç fech anteri no merc paralel moed nort americ oper negoci represent ági relaç dól comerc com qued dól acumul desvalor junh frent alt registr mê pass no ano desvalor acumul moed nort americ cheg dól futur bm&f na bm&f contrat futur venc julh oper cot lev baix relaç fech últ sext feir o contrat venc agost vez oper fort alt ating frent fech sext feir'"
      ]
     },
     "metadata": {},
     "execution_count": 80
    }
   ],
   "source": [
    "news_df.prep_text[0]"
   ]
  },
  {
   "source": [
    "news_df.to_csv(Path('../arquivos/news_data_prep.csv'), index=False)"
   ],
   "cell_type": "code",
   "metadata": {},
   "execution_count": 81,
   "outputs": []
  }
 ]
}