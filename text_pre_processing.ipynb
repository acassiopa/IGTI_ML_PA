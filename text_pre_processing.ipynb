{
 "metadata": {
  "language_info": {
   "codemirror_mode": {
    "name": "ipython",
    "version": 3
   },
   "file_extension": ".py",
   "mimetype": "text/x-python",
   "name": "python",
   "nbconvert_exporter": "python",
   "pygments_lexer": "ipython3",
   "version": "3.8.8-final"
  },
  "orig_nbformat": 2,
  "kernelspec": {
   "name": "python3",
   "display_name": "Python 3.8.8 64-bit (conda)",
   "metadata": {
    "interpreter": {
     "hash": "01b3c0a945a59b323df80bd5882d6f2f9fc474040821776379d4f4116ecac8d8"
    }
   }
  }
 },
 "nbformat": 4,
 "nbformat_minor": 2,
 "cells": [
  {
   "cell_type": "code",
   "execution_count": 130,
   "metadata": {},
   "outputs": [],
   "source": [
    "from nltk.tokenize import WhitespaceTokenizer\n",
    "from nltk.corpus import stopwords\n",
    "from nltk import RSLPStemmer\n",
    "from nltk import ngrams\n",
    "\n",
    "from pandas import DataFrame, read_csv\n",
    "from string import punctuation\n",
    "from pathlib import Path"
   ]
  },
  {
   "source": [
    "### Importa arquivo"
   ],
   "cell_type": "markdown",
   "metadata": {}
  },
  {
   "cell_type": "code",
   "execution_count": 131,
   "metadata": {},
   "outputs": [],
   "source": [
    "news_data_path = Path('../arquivos/mongo_export.csv')\n",
    "news_df = read_csv(news_data_path)"
   ]
  },
  {
   "cell_type": "code",
   "execution_count": 132,
   "metadata": {},
   "outputs": [],
   "source": [
    "news_df.drop(columns='_id', inplace=True)"
   ]
  },
  {
   "cell_type": "code",
   "execution_count": 133,
   "metadata": {},
   "outputs": [
    {
     "output_type": "execute_result",
     "data": {
      "text/plain": [
       "    code     source                                                url  \\\n",
       "0  BBAS3  Infomoney  https://www.infomoney.com.br/mercados/ceo-do-b...   \n",
       "1  BBAS3  Infomoney  https://www.infomoney.com.br/mercados/despesas...   \n",
       "2  BBAS3  Infomoney  https://www.infomoney.com.br/mercados/bradesco...   \n",
       "3  BBAS3  Infomoney  https://www.infomoney.com.br/mercados/andre-br...   \n",
       "4  BBAS3  Infomoney  https://www.infomoney.com.br/mercados/banco-do...   \n",
       "\n",
       "                                               title  \\\n",
       "0  CEO do Banco do Brasil diz que houve falha de ...   \n",
       "1  Despesas permanecerão sob rigoroso controle ne...   \n",
       "2  Bradesco, Itaú, Santander ou Banco do Brasil: ...   \n",
       "3  Ações do Banco do Brasil fecham em queda de 5%...   \n",
       "4  Banco do Brasil anuncia abertura de 14 novas a...   \n",
       "\n",
       "                   datetime                                           raw_text  \n",
       "0  2021-02-12T10:41:35.000Z  André Brandão (Foto: Marcelo Camargo/ Agência ...  \n",
       "1  2021-02-12T07:10:00.000Z  André Brandão (Foto: Marcelo Camargo/ Agência ...  \n",
       "2  2021-02-12T17:41:41.000Z  SÃO PAULO – A temporada de resultados do quart...  \n",
       "3  2021-01-13T18:11:02.000Z  SÃO PAULO – As ações do Banco do Brasil (, R$ ...  \n",
       "4  2021-02-03T13:55:00.000Z  Seguindo o planejamento de reestruturação orga...  "
      ],
      "text/html": "<div>\n<style scoped>\n    .dataframe tbody tr th:only-of-type {\n        vertical-align: middle;\n    }\n\n    .dataframe tbody tr th {\n        vertical-align: top;\n    }\n\n    .dataframe thead th {\n        text-align: right;\n    }\n</style>\n<table border=\"1\" class=\"dataframe\">\n  <thead>\n    <tr style=\"text-align: right;\">\n      <th></th>\n      <th>code</th>\n      <th>source</th>\n      <th>url</th>\n      <th>title</th>\n      <th>datetime</th>\n      <th>raw_text</th>\n    </tr>\n  </thead>\n  <tbody>\n    <tr>\n      <th>0</th>\n      <td>BBAS3</td>\n      <td>Infomoney</td>\n      <td>https://www.infomoney.com.br/mercados/ceo-do-b...</td>\n      <td>CEO do Banco do Brasil diz que houve falha de ...</td>\n      <td>2021-02-12T10:41:35.000Z</td>\n      <td>André Brandão (Foto: Marcelo Camargo/ Agência ...</td>\n    </tr>\n    <tr>\n      <th>1</th>\n      <td>BBAS3</td>\n      <td>Infomoney</td>\n      <td>https://www.infomoney.com.br/mercados/despesas...</td>\n      <td>Despesas permanecerão sob rigoroso controle ne...</td>\n      <td>2021-02-12T07:10:00.000Z</td>\n      <td>André Brandão (Foto: Marcelo Camargo/ Agência ...</td>\n    </tr>\n    <tr>\n      <th>2</th>\n      <td>BBAS3</td>\n      <td>Infomoney</td>\n      <td>https://www.infomoney.com.br/mercados/bradesco...</td>\n      <td>Bradesco, Itaú, Santander ou Banco do Brasil: ...</td>\n      <td>2021-02-12T17:41:41.000Z</td>\n      <td>SÃO PAULO – A temporada de resultados do quart...</td>\n    </tr>\n    <tr>\n      <th>3</th>\n      <td>BBAS3</td>\n      <td>Infomoney</td>\n      <td>https://www.infomoney.com.br/mercados/andre-br...</td>\n      <td>Ações do Banco do Brasil fecham em queda de 5%...</td>\n      <td>2021-01-13T18:11:02.000Z</td>\n      <td>SÃO PAULO – As ações do Banco do Brasil (, R$ ...</td>\n    </tr>\n    <tr>\n      <th>4</th>\n      <td>BBAS3</td>\n      <td>Infomoney</td>\n      <td>https://www.infomoney.com.br/mercados/banco-do...</td>\n      <td>Banco do Brasil anuncia abertura de 14 novas a...</td>\n      <td>2021-02-03T13:55:00.000Z</td>\n      <td>Seguindo o planejamento de reestruturação orga...</td>\n    </tr>\n  </tbody>\n</table>\n</div>"
     },
     "metadata": {},
     "execution_count": 133
    }
   ],
   "source": [
    "news_df.head()"
   ]
  },
  {
   "source": [
    "### Define funções para o tratamento dos textos"
   ],
   "cell_type": "markdown",
   "metadata": {}
  },
  {
   "cell_type": "code",
   "execution_count": 134,
   "metadata": {},
   "outputs": [],
   "source": [
    "def tokenize(text: str) -> list:\n",
    "    \"\"\" Divide the text into token \"\"\"\n",
    "    toknzr = nltk.tokenize.WhitespaceTokenizer()\n",
    "    return toknzr.tokenize(text)"
   ]
  },
  {
   "cell_type": "code",
   "execution_count": 135,
   "metadata": {},
   "outputs": [],
   "source": [
    "def remove_pt_stop_words(text: str) -> str:\n",
    "    \"\"\" remove stop words from text in portuguese\"\"\"\n",
    "    stop_words = nltk.corpus.stopwords.words(\"portuguese\")\n",
    "    no_stop_text = [word for word in text.split() if word not in stop_words]\n",
    "\n",
    "    return ' '.join(no_stop_text)"
   ]
  },
  {
   "cell_type": "code",
   "execution_count": 136,
   "metadata": {},
   "outputs": [],
   "source": [
    "def remove_punctuation(text: str) -> str:\n",
    "    \"\"\" Remove punctuation from text \"\"\"\n",
    "    punctuation_list = ''.join([punctuation, chr(8211), chr(8220), chr(8221)])  # try regex\n",
    "    punctuation_list = punctuation_list.replace('-', '')\n",
    "    no_punct_text =  [word for word in text if word not in punctuation_list]\n",
    "    no_punct_text = ''.join(no_punct_text)\n",
    "    return no_punct_text"
   ]
  },
  {
   "cell_type": "code",
   "execution_count": 137,
   "metadata": {},
   "outputs": [],
   "source": [
    "def stemmize(tokens: list) -> list:\n",
    "    stemmer = nltk.RSLPStemmer()\n",
    "    return [stemmer.stem(tok) for tok in tokens]"
   ]
  },
  {
   "source": [
    "### Aplicação das funções no DataFrame"
   ],
   "cell_type": "markdown",
   "metadata": {}
  },
  {
   "cell_type": "code",
   "execution_count": 138,
   "metadata": {},
   "outputs": [],
   "source": [
    "news_df['prep_text'] = news_df['raw_text'].apply(remove_punctuation)"
   ]
  },
  {
   "cell_type": "code",
   "execution_count": 139,
   "metadata": {},
   "outputs": [],
   "source": [
    "news_df['prep_text'] = news_df['prep_text'].apply(remove_pt_stop_words)"
   ]
  },
  {
   "cell_type": "code",
   "execution_count": 140,
   "metadata": {},
   "outputs": [],
   "source": [
    "news_df['prep_text'] = news_df['prep_text'].apply(tokenize)"
   ]
  },
  {
   "cell_type": "code",
   "execution_count": 141,
   "metadata": {},
   "outputs": [],
   "source": [
    "news_df['prep_text'] = news_df['prep_text'].apply(stemmize)"
   ]
  },
  {
   "cell_type": "code",
   "execution_count": 142,
   "metadata": {},
   "outputs": [],
   "source": [
    "news_df['prep_text'] = news_df['prep_text'].apply(lambda x : ' '.join(x))"
   ]
  },
  {
   "cell_type": "code",
   "execution_count": 143,
   "metadata": {},
   "outputs": [
    {
     "output_type": "execute_result",
     "data": {
      "text/plain": [
       "    code     source                                                url  \\\n",
       "0  BBAS3  Infomoney  https://www.infomoney.com.br/mercados/ceo-do-b...   \n",
       "1  BBAS3  Infomoney  https://www.infomoney.com.br/mercados/despesas...   \n",
       "2  BBAS3  Infomoney  https://www.infomoney.com.br/mercados/bradesco...   \n",
       "3  BBAS3  Infomoney  https://www.infomoney.com.br/mercados/andre-br...   \n",
       "4  BBAS3  Infomoney  https://www.infomoney.com.br/mercados/banco-do...   \n",
       "\n",
       "                                               title  \\\n",
       "0  CEO do Banco do Brasil diz que houve falha de ...   \n",
       "1  Despesas permanecerão sob rigoroso controle ne...   \n",
       "2  Bradesco, Itaú, Santander ou Banco do Brasil: ...   \n",
       "3  Ações do Banco do Brasil fecham em queda de 5%...   \n",
       "4  Banco do Brasil anuncia abertura de 14 novas a...   \n",
       "\n",
       "                   datetime  \\\n",
       "0  2021-02-12T10:41:35.000Z   \n",
       "1  2021-02-12T07:10:00.000Z   \n",
       "2  2021-02-12T17:41:41.000Z   \n",
       "3  2021-01-13T18:11:02.000Z   \n",
       "4  2021-02-03T13:55:00.000Z   \n",
       "\n",
       "                                            raw_text  \\\n",
       "0  André Brandão (Foto: Marcelo Camargo/ Agência ...   \n",
       "1  André Brandão (Foto: Marcelo Camargo/ Agência ...   \n",
       "2  SÃO PAULO – A temporada de resultados do quart...   \n",
       "3  SÃO PAULO – As ações do Banco do Brasil (, R$ ...   \n",
       "4  Seguindo o planejamento de reestruturação orga...   \n",
       "\n",
       "                                           prep_text  \n",
       "0  andré brand fot marcel camarg agênc brasilreut...  \n",
       "1  andré brand fot marcel camarg agênc brasil pre...  \n",
       "2  são paul a tempor result quart trimestr 2020 a...  \n",
       "3  são paul as açõ banc brasil r 3755 -494 fech q...  \n",
       "4  segu planej reestrutur organizac anunci jan ba...  "
      ],
      "text/html": "<div>\n<style scoped>\n    .dataframe tbody tr th:only-of-type {\n        vertical-align: middle;\n    }\n\n    .dataframe tbody tr th {\n        vertical-align: top;\n    }\n\n    .dataframe thead th {\n        text-align: right;\n    }\n</style>\n<table border=\"1\" class=\"dataframe\">\n  <thead>\n    <tr style=\"text-align: right;\">\n      <th></th>\n      <th>code</th>\n      <th>source</th>\n      <th>url</th>\n      <th>title</th>\n      <th>datetime</th>\n      <th>raw_text</th>\n      <th>prep_text</th>\n    </tr>\n  </thead>\n  <tbody>\n    <tr>\n      <th>0</th>\n      <td>BBAS3</td>\n      <td>Infomoney</td>\n      <td>https://www.infomoney.com.br/mercados/ceo-do-b...</td>\n      <td>CEO do Banco do Brasil diz que houve falha de ...</td>\n      <td>2021-02-12T10:41:35.000Z</td>\n      <td>André Brandão (Foto: Marcelo Camargo/ Agência ...</td>\n      <td>andré brand fot marcel camarg agênc brasilreut...</td>\n    </tr>\n    <tr>\n      <th>1</th>\n      <td>BBAS3</td>\n      <td>Infomoney</td>\n      <td>https://www.infomoney.com.br/mercados/despesas...</td>\n      <td>Despesas permanecerão sob rigoroso controle ne...</td>\n      <td>2021-02-12T07:10:00.000Z</td>\n      <td>André Brandão (Foto: Marcelo Camargo/ Agência ...</td>\n      <td>andré brand fot marcel camarg agênc brasil pre...</td>\n    </tr>\n    <tr>\n      <th>2</th>\n      <td>BBAS3</td>\n      <td>Infomoney</td>\n      <td>https://www.infomoney.com.br/mercados/bradesco...</td>\n      <td>Bradesco, Itaú, Santander ou Banco do Brasil: ...</td>\n      <td>2021-02-12T17:41:41.000Z</td>\n      <td>SÃO PAULO – A temporada de resultados do quart...</td>\n      <td>são paul a tempor result quart trimestr 2020 a...</td>\n    </tr>\n    <tr>\n      <th>3</th>\n      <td>BBAS3</td>\n      <td>Infomoney</td>\n      <td>https://www.infomoney.com.br/mercados/andre-br...</td>\n      <td>Ações do Banco do Brasil fecham em queda de 5%...</td>\n      <td>2021-01-13T18:11:02.000Z</td>\n      <td>SÃO PAULO – As ações do Banco do Brasil (, R$ ...</td>\n      <td>são paul as açõ banc brasil r 3755 -494 fech q...</td>\n    </tr>\n    <tr>\n      <th>4</th>\n      <td>BBAS3</td>\n      <td>Infomoney</td>\n      <td>https://www.infomoney.com.br/mercados/banco-do...</td>\n      <td>Banco do Brasil anuncia abertura de 14 novas a...</td>\n      <td>2021-02-03T13:55:00.000Z</td>\n      <td>Seguindo o planejamento de reestruturação orga...</td>\n      <td>segu planej reestrutur organizac anunci jan ba...</td>\n    </tr>\n  </tbody>\n</table>\n</div>"
     },
     "metadata": {},
     "execution_count": 143
    }
   ],
   "source": [
    "news_df.head()"
   ]
  },
  {
   "cell_type": "code",
   "execution_count": 144,
   "metadata": {},
   "outputs": [
    {
     "output_type": "execute_result",
     "data": {
      "text/plain": [
       "'andré brand fot marcel camarg agênc brasilreut o presidente-execu banc brasil andré brand afirm nest sexta-f 12 problem comunic presid jair bolsonar banc anunci fech 300 agênc tod paísbrand diss jornal bb abandon total nenhum cidad ele afirm banc decid fech agênc determin cidad outr agênc correspond banc fornec serviç básicosel reiter plan reduz númer agênc banc econom r 10 bilhã 2025'"
      ]
     },
     "metadata": {},
     "execution_count": 144
    }
   ],
   "source": [
    "news_df.prep_text[0]"
   ]
  },
  {
   "source": [
    "news_df.to_csv(Path('../arquivos/BBAS3_prep.csv'), index=False)"
   ],
   "cell_type": "code",
   "metadata": {},
   "execution_count": 146,
   "outputs": []
  }
 ]
}