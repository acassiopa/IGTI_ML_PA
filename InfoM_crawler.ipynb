{
 "metadata": {
  "language_info": {
   "codemirror_mode": {
    "name": "ipython",
    "version": 3
   },
   "file_extension": ".py",
   "mimetype": "text/x-python",
   "name": "python",
   "nbconvert_exporter": "python",
   "pygments_lexer": "ipython3",
   "version": "3.8.3-final"
  },
  "orig_nbformat": 2,
  "kernelspec": {
   "name": "python3",
   "display_name": "Python 3",
   "language": "python"
  }
 },
 "nbformat": 4,
 "nbformat_minor": 2,
 "cells": [
  {
   "source": [
    "## Extração do texto da página HTML"
   ],
   "cell_type": "markdown",
   "metadata": {}
  },
  {
   "cell_type": "code",
   "execution_count": 1,
   "metadata": {},
   "outputs": [],
   "source": [
    "import urllib.request\n",
    "from bs4 import BeautifulSoup"
   ]
  },
  {
   "cell_type": "code",
   "execution_count": 2,
   "metadata": {},
   "outputs": [],
   "source": [
    "artigo_url = \"https://www.infomoney.com.br/mercados/andre-brandao-pode-deixar-presidencia-do-banco-do-brasil-diz-veja-acoes-caem-mais-de-3/\"\n",
    "with urllib.request.urlopen(artigo_url) as url:\n",
    "    page = url.read()"
   ]
  },
  {
   "cell_type": "code",
   "execution_count": 3,
   "metadata": {},
   "outputs": [],
   "source": [
    "soup = BeautifulSoup(page, \"html.parser\")"
   ]
  },
  {
   "cell_type": "code",
   "execution_count": 4,
   "metadata": {},
   "outputs": [
    {
     "output_type": "execute_result",
     "data": {
      "text/plain": [
       "'Ações do Banco do Brasil fecham em queda de 5% com notícias de que André Brandão deixará presidência da instituição'"
      ]
     },
     "metadata": {},
     "execution_count": 4
    }
   ],
   "source": [
    "soup.title.text"
   ]
  },
  {
   "cell_type": "code",
   "execution_count": 5,
   "metadata": {},
   "outputs": [],
   "source": [
    "time_tag = soup.find('time', class_='entry-date published')\n",
    "data_artigo = time_tag['datetime']"
   ]
  },
  {
   "cell_type": "code",
   "execution_count": 6,
   "metadata": {},
   "outputs": [
    {
     "output_type": "stream",
     "name": "stdout",
     "text": [
      "2021-01-13T18:11:02-03:00\n"
     ]
    }
   ],
   "source": [
    "print(data_artigo)"
   ]
  },
  {
   "cell_type": "code",
   "execution_count": 7,
   "metadata": {},
   "outputs": [],
   "source": [
    "article_tag = soup.find(class_='article-content')"
   ]
  },
  {
   "cell_type": "code",
   "execution_count": 8,
   "metadata": {},
   "outputs": [],
   "source": [
    "p_list = article_tag.find_all('p', class_=False)"
   ]
  },
  {
   "cell_type": "code",
   "execution_count": 10,
   "metadata": {},
   "outputs": [],
   "source": [
    "for p in p_list:\n",
    "    for tag in p.find_all():\n",
    "        if tag.name != 'p': tag.decompose()"
   ]
  },
  {
   "cell_type": "code",
   "execution_count": 11,
   "metadata": {},
   "outputs": [],
   "source": [
    "texto_bruto = article_tag.get_text(strip=True)"
   ]
  },
  {
   "cell_type": "code",
   "execution_count": 12,
   "metadata": {},
   "outputs": [
    {
     "output_type": "stream",
     "name": "stdout",
     "text": [
      "SÃO PAULO – As ações do Banco do Brasil (, R$ 37,55, -4,94%) fecharam em queda de cerca de 5% na sessão desta quarta-feira (13) em meio às informações de diversos veículos de mídia, mas ainda sem uma oficialização, de que André Brandão, presidente do BB, está deixando o cargo na instituição. O motivo da saída seria a insatisfação do presidente Jair Bolsonaro com a repercussão em torno do fechamento de agências do banco e do plano de demissão voluntária, anunciados na última segunda-feira.Os rumores começaram no início da tarde, mais precisamente às 13h35 (horário de Brasília), quando a notícia foi publicada pelo site de Veja, fazendo a ação cair forte com a informação de que a saída do executivo seria cogitada.Já perto do fechamento do pregão, a BandNews TV afirmou de forma mais categórica que ele está de saída da instituição e, com isso, os ativos intensificaram as perdas, caindo 5% na reta final do pregão. Contudo, outros veículos destacaram que a situação era bastante delicada, mas que não havia uma definição.Na segunda, o Banco do Brasil anunciou a aprovação de um plano de reorganização para ganhos de eficiência operacional que prevê, entre outras medidas, o fechamento de 112 agências da instituição, além de programas de desligamento, com expectativa de adesão de 5 mil funcionários. O banco estima que a implementação plena das medidas deve ocorrer durante o primeiro semestre deste ano.A reestruturação, já esperada pelo mercado, foi vista por analistas como um grande esforço da instituição para atacar seu maior gargalo em relação aos seus pares, a ineficiência, e avançar no processo de digitalização.Contudo, a avaliação é de que, embora tenha sido elogiado por analistas do setor, o plano teria desagradado Bolsonaro, devido ao potencial desgaste político da medida, em particular pelo momento, em meio a negociações para tentar emplacar seus candidatos para a eleição na presidência da Câmara dos Deputados e do Senado.“Há uma sensação de dificuldade de implementar medidas de redução de despesas”, disse uma fonte familiarizada com o banco a par do assunto ouvida pela Reuters. Consultado, o BB informou que não comentaria rumores de mercado.Por volta das 14h15, Andréia Sadi, do G1, também informou que Bolsonaro cogitaria a troca de comando no BB por não estar satisfeito com os “efeitos políticos” da gestão de Brandão.Entre assessores do governo, a avaliação é a de que ele tem boa repercussão no mercado, mas não levou em conta o que chamam de “dimensão política” de medidas.Ministro da Economia, Paulo Guedes gosta de Brandão e faz elogios ao perfil do presidente do banco, destaca a publicação da colunista. Assim, a equipe econômica tentava reverter a irritação do presidente, de forma a manter Brandão no cargo. “Mas admite que, desde a sua indicação, o presidente não se empolgou- mas aceitou em respeito a Guedes e [Roberto] Campos Neto”, ressalta, referindo-se também ao presidente do Banco Central, que também participou da escolha.Segundo o Credit Suisse, se confirmada, a notícia é negativa, pois lançaria dúvidas sobre a continuação das iniciativas recentes de corte de custos, ao mesmo tempo que aumentaria o medo da interferência do governo.Marcel Campos, analista da XP Investimentos, também destacouque a notícia seria ruim. Isso porque i) Brandão sinalizou positivamente para o mercado que seu mandato seria voltado para o ganho de eficiência por meio de uma reestruturação organizacional; ii) o executivo é um veterano respeitado com mais de 30 anos de experiência em bancos privados, como Citi e HSBC, incluindo uma posição de CEO na operação local do HSBC de 2012 até sua venda para o Bradesco em 2016; e iii) pode ser visto como interferência política do governo (acionista controlador) em detrimento dos acionistas minoritários.“No entanto, reiteramos nossa recomendação de compra e visão positiva ao banco, pois acreditamos que tal mudança não afetará os fundamentos do banco: i) um desconto de 15% ao valor patrimonial e 7 vezes a relação preço sobre lucro esperada para 2021, o que já poderia implicar em uma gestão abaixo da média; ii) defendido com uma boa carteira de crédito, menor exposição a receitas de serviços, elevados índices de liquidez e adequação de capital e tesouraria passiva; iii) digitalmente competitivo com o maior número de usuários ativos mensais de aplicativos e uma estratégia omnichannel; e iv) com vitaminas de curto prazo que poderiam aumentar os ganhos por meio de um menor custo de captação e provisões operacionais”, aponta o analista.André Brandão tomou posse como, em substituição a Rubem Novaes. A saída de Novaes, por sinal, também causou turbulência no mercado, mas houve uma maior tranquilidade com as informações sobre o seu sucessor.André Brandão veio do HSBC, onde estava desde 2003; Brandão atuava como chefe global da instituição para as Américas. Desde que vendeu o banco de varejo para o Bradesco, em 2016, o HSBC atua no Brasil apenas como banco de investimento. Antes de chegar ao HSBC, ele permaneceu mais de dez anos no Citibank (outra instituição que, recentemente, saiu do segmento de varejo no País, ao ser adquirida pelo Itaú Unibanco). Entre os planos de Brandão à frente da estatal, prosseguir com a digitalização e aumentar a eficiência do banco estatal.Assim, a saída iminente de Brandão e por conta das medidas de reorganização do banco é lida de forma bastante negativa. De acordo com um operador que não quis se identificar, o motivo para a saída de Brandão diminui muito as expectativas sobre o novo CEO, mesmo que ele seja alguém do mercado financeiro.“A questão também é que já colocaram uma pessoa do mercado [Brandão]. Nem se fosse outra pessoa de mesmo perfil adiantaria, pois o próprio investidor teria dificuldade de acreditar na possibilidade de um bom executivo atuar dentro do banco. E ainda existe a possibilidade de indicação política, o que implicaria em uma situação muito desconfortável”, avalia o operador.\n"
     ]
    }
   ],
   "source": [
    "print(texto_bruto)"
   ]
  },
  {
   "source": [
    "## Normalizaçao do texto"
   ],
   "cell_type": "markdown",
   "metadata": {}
  },
  {
   "cell_type": "code",
   "execution_count": null,
   "metadata": {},
   "outputs": [],
   "source": []
  }
 ]
}