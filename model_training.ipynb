{
 "metadata": {
  "language_info": {
   "codemirror_mode": {
    "name": "ipython",
    "version": 3
   },
   "file_extension": ".py",
   "mimetype": "text/x-python",
   "name": "python",
   "nbconvert_exporter": "python",
   "pygments_lexer": "ipython3",
   "version": "3.8.8-final"
  },
  "orig_nbformat": 2,
  "kernelspec": {
   "name": "python3",
   "display_name": "Python 3.8.8 64-bit (conda)",
   "metadata": {
    "interpreter": {
     "hash": "01b3c0a945a59b323df80bd5882d6f2f9fc474040821776379d4f4116ecac8d8"
    }
   }
  }
 },
 "nbformat": 4,
 "nbformat_minor": 2,
 "cells": [
  {
   "cell_type": "code",
   "execution_count": 181,
   "metadata": {},
   "outputs": [],
   "source": [
    "from sklearn.feature_extraction.text import TfidfVectorizer\n",
    "from sklearn.model_selection import train_test_split\n",
    "from sklearn.naive_bayes import GaussianNB, MultinomialNB, ComplementNB\n",
    "from pandas import DataFrame, read_csv\n",
    "from pathlib import Path"
   ]
  },
  {
   "cell_type": "code",
   "execution_count": 182,
   "metadata": {},
   "outputs": [],
   "source": [
    "news_df = read_csv(Path('../arquivos/BBAS3_cls.csv'), parse_dates=[4])"
   ]
  },
  {
   "cell_type": "code",
   "execution_count": 183,
   "metadata": {},
   "outputs": [
    {
     "output_type": "execute_result",
     "data": {
      "text/plain": [
       "    code     source                                                url  \\\n",
       "0  BBAS3  Infomoney  https://www.infomoney.com.br/mercados/ceo-do-b...   \n",
       "1  BBAS3  Infomoney  https://www.infomoney.com.br/mercados/despesas...   \n",
       "2  BBAS3  Infomoney  https://www.infomoney.com.br/mercados/bradesco...   \n",
       "3  BBAS3  Infomoney  https://www.infomoney.com.br/mercados/andre-br...   \n",
       "4  BBAS3  Infomoney  https://www.infomoney.com.br/mercados/banco-do...   \n",
       "\n",
       "                                               title  \\\n",
       "0  CEO do Banco do Brasil diz que houve falha de ...   \n",
       "1  Despesas permanecerão sob rigoroso controle ne...   \n",
       "2  Bradesco, Itaú, Santander ou Banco do Brasil: ...   \n",
       "3  Ações do Banco do Brasil fecham em queda de 5%...   \n",
       "4  Banco do Brasil anuncia abertura de 14 novas a...   \n",
       "\n",
       "                   datetime  \\\n",
       "0 2021-02-12 10:41:35+00:00   \n",
       "1 2021-02-12 07:10:00+00:00   \n",
       "2 2021-02-12 17:41:41+00:00   \n",
       "3 2021-01-13 18:11:02+00:00   \n",
       "4 2021-02-03 13:55:00+00:00   \n",
       "\n",
       "                                            raw_text  \\\n",
       "0  André Brandão (Foto: Marcelo Camargo/ Agência ...   \n",
       "1  André Brandão (Foto: Marcelo Camargo/ Agência ...   \n",
       "2  SÃO PAULO – A temporada de resultados do quart...   \n",
       "3  SÃO PAULO – As ações do Banco do Brasil (, R$ ...   \n",
       "4  Seguindo o planejamento de reestruturação orga...   \n",
       "\n",
       "                                           prep_text  cls_influence  \n",
       "0  andré brand fot marcel camarg agênc brasilreut...              0  \n",
       "1  andré brand fot marcel camarg agênc brasil pre...              0  \n",
       "2  são paul a tempor result quart trimestr 2020 a...              0  \n",
       "3  são paul as açõ banc brasil r 3755 -494 fech q...             -1  \n",
       "4  segu planej reestrutur organizac anunci jan ba...              0  "
      ],
      "text/html": "<div>\n<style scoped>\n    .dataframe tbody tr th:only-of-type {\n        vertical-align: middle;\n    }\n\n    .dataframe tbody tr th {\n        vertical-align: top;\n    }\n\n    .dataframe thead th {\n        text-align: right;\n    }\n</style>\n<table border=\"1\" class=\"dataframe\">\n  <thead>\n    <tr style=\"text-align: right;\">\n      <th></th>\n      <th>code</th>\n      <th>source</th>\n      <th>url</th>\n      <th>title</th>\n      <th>datetime</th>\n      <th>raw_text</th>\n      <th>prep_text</th>\n      <th>cls_influence</th>\n    </tr>\n  </thead>\n  <tbody>\n    <tr>\n      <th>0</th>\n      <td>BBAS3</td>\n      <td>Infomoney</td>\n      <td>https://www.infomoney.com.br/mercados/ceo-do-b...</td>\n      <td>CEO do Banco do Brasil diz que houve falha de ...</td>\n      <td>2021-02-12 10:41:35+00:00</td>\n      <td>André Brandão (Foto: Marcelo Camargo/ Agência ...</td>\n      <td>andré brand fot marcel camarg agênc brasilreut...</td>\n      <td>0</td>\n    </tr>\n    <tr>\n      <th>1</th>\n      <td>BBAS3</td>\n      <td>Infomoney</td>\n      <td>https://www.infomoney.com.br/mercados/despesas...</td>\n      <td>Despesas permanecerão sob rigoroso controle ne...</td>\n      <td>2021-02-12 07:10:00+00:00</td>\n      <td>André Brandão (Foto: Marcelo Camargo/ Agência ...</td>\n      <td>andré brand fot marcel camarg agênc brasil pre...</td>\n      <td>0</td>\n    </tr>\n    <tr>\n      <th>2</th>\n      <td>BBAS3</td>\n      <td>Infomoney</td>\n      <td>https://www.infomoney.com.br/mercados/bradesco...</td>\n      <td>Bradesco, Itaú, Santander ou Banco do Brasil: ...</td>\n      <td>2021-02-12 17:41:41+00:00</td>\n      <td>SÃO PAULO – A temporada de resultados do quart...</td>\n      <td>são paul a tempor result quart trimestr 2020 a...</td>\n      <td>0</td>\n    </tr>\n    <tr>\n      <th>3</th>\n      <td>BBAS3</td>\n      <td>Infomoney</td>\n      <td>https://www.infomoney.com.br/mercados/andre-br...</td>\n      <td>Ações do Banco do Brasil fecham em queda de 5%...</td>\n      <td>2021-01-13 18:11:02+00:00</td>\n      <td>SÃO PAULO – As ações do Banco do Brasil (, R$ ...</td>\n      <td>são paul as açõ banc brasil r 3755 -494 fech q...</td>\n      <td>-1</td>\n    </tr>\n    <tr>\n      <th>4</th>\n      <td>BBAS3</td>\n      <td>Infomoney</td>\n      <td>https://www.infomoney.com.br/mercados/banco-do...</td>\n      <td>Banco do Brasil anuncia abertura de 14 novas a...</td>\n      <td>2021-02-03 13:55:00+00:00</td>\n      <td>Seguindo o planejamento de reestruturação orga...</td>\n      <td>segu planej reestrutur organizac anunci jan ba...</td>\n      <td>0</td>\n    </tr>\n  </tbody>\n</table>\n</div>"
     },
     "metadata": {},
     "execution_count": 183
    }
   ],
   "source": [
    "news_df.head()"
   ]
  },
  {
   "cell_type": "code",
   "execution_count": 184,
   "metadata": {},
   "outputs": [],
   "source": [
    "train, test, cls_train, cls_test = train_test_split(news_df['prep_text'], \n",
    "                                                    news_df['cls_influence'],\n",
    "                                                    test_size = 0.1,\n",
    "                                                    random_state = 42)"
   ]
  },
  {
   "cell_type": "code",
   "execution_count": 201,
   "metadata": {},
   "outputs": [
    {
     "output_type": "execute_result",
     "data": {
      "text/plain": [
       "84     são paul o banc brasil divulg result operac re...\n",
       "260    são paul o banc brasil envi seguint comunic me...\n",
       "45     são paul a equip invest hsbc revis nest quinta...\n",
       "176    são paul a spinell divulg cart recomend seman ...\n",
       "143    bloomberg — a sociedad ub group banc brasil ba...\n",
       "125    bloomberg — o ub bb investment bank joint vent...\n",
       "227    são paul o exercíci opç sobr açõ moviment nest...\n",
       "118    são paul a brad corre promov cinc alter cart t...\n",
       "9      são paul em destaqu sess dest quinta-f invest ...\n",
       "90     são paul destaqu nest quinta-f 13 açõ indústr ...\n",
       "147    são paul com avent jorn desd prim notíc sobr a...\n",
       "275    são paul o banc brasilcomeç aproxim iníci inte...\n",
       "33     são paul na próx segunda-f 12 bmf bovesp lanç ...\n",
       "281    são paul o banc brasil irá destin r 101 bilhã ...\n",
       "221    são paul o banc brasil envi seguint comunic me...\n",
       "77     são paul o banc brasil envi seguint fat releva...\n",
       "46     são paul inp envi seguint comunicado inp sa bo...\n",
       "5      são paul o banc brasil registr lucr líqu ajust...\n",
       "231    são paul o tribun justiç est são paul conced s...\n",
       "244    são paul o banc brasil envi seguint avis acion...\n",
       "124    são paul a tam envi seguint comunic mercadofir...\n",
       "238    são paul o banc brasil inform not nest segunda...\n",
       "279    são paul a part próx dia 15 banc brasil reduzi...\n",
       "101    com mov compr dól prevalec invest dev expect m...\n",
       "75     são paul o banc noss caix envi seguint comunic...\n",
       "271    são paul o banc brasil envi seguint avis acion...\n",
       "274    são paul o banc brasil bnd banc nacion desenvo...\n",
       "109    são paul a slw divulg segunda-f 20 cart recome...\n",
       "60     são paul em entrev agênc notíc bloomberg cfo c...\n",
       "202    são paul desd últ segunda-f 3 banc brasil disp...\n",
       "Name: prep_text, dtype: object"
      ]
     },
     "metadata": {},
     "execution_count": 201
    }
   ],
   "source": [
    "test"
   ]
  },
  {
   "cell_type": "code",
   "execution_count": 186,
   "metadata": {},
   "outputs": [],
   "source": [
    "tfidf = TfidfVectorizer(ngram_range=(1,2)\n",
    "                        , max_df=0.5\n",
    "                        , sublinear_tf=True\n",
    "                        , max_features=20000)"
   ]
  },
  {
   "cell_type": "code",
   "execution_count": 187,
   "metadata": {},
   "outputs": [],
   "source": [
    "tfidf_train = tfidf.fit_transform(train)\n",
    "tfidf_test = tfidf.transform(test)"
   ]
  },
  {
   "cell_type": "code",
   "execution_count": 188,
   "metadata": {},
   "outputs": [
    {
     "output_type": "stream",
     "name": "stdout",
     "text": [
      "\n"
     ]
    }
   ],
   "source": [
    "# df = DataFrame(tfidf_train.todense(), columns=tfidf.get_feature_names())\n",
    "# df.loc[2].nlargest(50)\n",
    "# print('')"
   ]
  },
  {
   "cell_type": "code",
   "execution_count": 205,
   "metadata": {},
   "outputs": [
    {
     "output_type": "stream",
     "name": "stdout",
     "text": [
      "84     são paul o banc brasil divulg result operac re...\n260    são paul o banc brasil envi seguint comunic me...\n45     são paul a equip invest hsbc revis nest quinta...\n176    são paul a spinell divulg cart recomend seman ...\n143    bloomberg — a sociedad ub group banc brasil ba...\n125    bloomberg — o ub bb investment bank joint vent...\n227    são paul o exercíci opç sobr açõ moviment nest...\n118    são paul a brad corre promov cinc alter cart t...\n9      são paul em destaqu sess dest quinta-f invest ...\n90     são paul destaqu nest quinta-f 13 açõ indústr ...\nName: prep_text, dtype: object\n"
     ]
    }
   ],
   "source": [
    "print(test[:10])"
   ]
  },
  {
   "cell_type": "code",
   "execution_count": 196,
   "metadata": {},
   "outputs": [
    {
     "output_type": "execute_result",
     "data": {
      "text/plain": [
       "MultinomialNB()"
      ]
     },
     "metadata": {},
     "execution_count": 196
    }
   ],
   "source": [
    "model = MultinomialNB()\n",
    "model.fit(tfidf_train, cls_train)"
   ]
  },
  {
   "cell_type": "code",
   "execution_count": 198,
   "metadata": {},
   "outputs": [
    {
     "output_type": "execute_result",
     "data": {
      "text/plain": [
       "array([0, 0, 0, 0, 0, 0, 0, 0, 0, 0, 0, 0, 0, 0, 1, 0, 0, 0, 0, 0, 0, 1,\n",
       "       0, 0, 0, 1, 0, 0, 0, 0], dtype=int64)"
      ]
     },
     "metadata": {},
     "execution_count": 198
    }
   ],
   "source": [
    "model.predict(tfidf_test)"
   ]
  },
  {
   "cell_type": "code",
   "execution_count": 200,
   "metadata": {},
   "outputs": [
    {
     "output_type": "stream",
     "name": "stdout",
     "text": [
      "Train accuracy:  0.8022813688212928\nTest accuracy:  0.5333333333333333\n"
     ]
    }
   ],
   "source": [
    "train_score = model.score(tfidf_train, cls_train)\n",
    "test_score = model.score(tfidf_test, cls_test)\n",
    "print('Train accuracy: ', train_score)\n",
    "print('Test accuracy: ', test_score)"
   ]
  },
  {
   "cell_type": "code",
   "execution_count": 203,
   "metadata": {},
   "outputs": [
    {
     "output_type": "execute_result",
     "data": {
      "text/plain": [
       "1"
      ]
     },
     "metadata": {},
     "execution_count": 203
    }
   ],
   "source": [
    "news_df['cls_influence'][238]"
   ]
  }
 ]
}