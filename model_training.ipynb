{
 "metadata": {
  "language_info": {
   "codemirror_mode": {
    "name": "ipython",
    "version": 3
   },
   "file_extension": ".py",
   "mimetype": "text/x-python",
   "name": "python",
   "nbconvert_exporter": "python",
   "pygments_lexer": "ipython3",
   "version": "3.8.8"
  },
  "orig_nbformat": 2,
  "kernelspec": {
   "name": "python388jvsc74a57bd001b3c0a945a59b323df80bd5882d6f2f9fc474040821776379d4f4116ecac8d8",
   "display_name": "Python 3.8.8 64-bit ('base': conda)"
  }
 },
 "nbformat": 4,
 "nbformat_minor": 2,
 "cells": [
  {
   "cell_type": "code",
   "execution_count": 1,
   "metadata": {},
   "outputs": [],
   "source": [
    "from sklearn.feature_extraction.text import TfidfVectorizer\n",
    "from sklearn.model_selection import train_test_split\n",
    "from sklearn.naive_bayes import GaussianNB, MultinomialNB, ComplementNB\n",
    "from pandas import DataFrame, read_csv\n",
    "from pathlib import Path"
   ]
  },
  {
   "cell_type": "code",
   "execution_count": 15,
   "metadata": {},
   "outputs": [],
   "source": [
    "news_df = read_csv(Path('../arquivos/news_data_prep.csv'), parse_dates=[4])"
   ]
  },
  {
   "cell_type": "code",
   "execution_count": 16,
   "metadata": {},
   "outputs": [
    {
     "output_type": "execute_result",
     "data": {
      "text/plain": [
       "    code     source                                                url  \\\n",
       "0  BBAS3  InfoMoney  https://www.infomoney.com.br/mercados/dolar-de...   \n",
       "1  BBAS3  InfoMoney  https://www.infomoney.com.br/mercados/vencimen...   \n",
       "2  BBAS3  InfoMoney  https://www.infomoney.com.br/mercados/banco-do...   \n",
       "3  BBAS3  InfoMoney  https://www.infomoney.com.br/mercados/diretori...   \n",
       "4  BBAS3  InfoMoney  https://www.infomoney.com.br/mercados/banco-do...   \n",
       "\n",
       "                                               title            datetime  \\\n",
       "0  Dólar desacelera queda nesta tarde, com mercad... 2003-06-09 12:05:00   \n",
       "1  Vencimentos cambiais e ação do Banco do Brasil... 2003-11-14 13:50:00   \n",
       "2  Banco do Brasil reduz juros na antecipação da ... 2004-03-30 09:10:00   \n",
       "3  Diretoria de Microcrédito do Banco do Brasil j... 2004-05-25 08:59:00   \n",
       "4  Banco do Brasil estreita relações com micro e ... 2004-06-29 14:50:00   \n",
       "\n",
       "                                            raw_text  cls_influence  \\\n",
       "0  SÃO PAULO – Diante das melhores perspectivas p...              1   \n",
       "1  SÃO PAULO – O dólar fechou em alta nesta sexta...             -1   \n",
       "2  São Paulo – O Banco do Brasil anunciou que a p...              1   \n",
       "3  SÃO PAULO – O Banco do Brasil fortaleceu sua a...              1   \n",
       "4  SÃO PAULO – O Banco do Brasil (BB) planeja est...              1   \n",
       "\n",
       "                                           prep_text  \n",
       "0  são paul di melhor perspec econom brasil dól c...  \n",
       "1  são paul o dól fech alt nest sext feir sess ma...  \n",
       "2  são paul o banc brasil anunci part dest terç f...  \n",
       "3  são paul o banc brasil fortalec atu crédit mic...  \n",
       "4  são paul o banc brasil bb planej estreit relaç...  "
      ],
      "text/html": "<div>\n<style scoped>\n    .dataframe tbody tr th:only-of-type {\n        vertical-align: middle;\n    }\n\n    .dataframe tbody tr th {\n        vertical-align: top;\n    }\n\n    .dataframe thead th {\n        text-align: right;\n    }\n</style>\n<table border=\"1\" class=\"dataframe\">\n  <thead>\n    <tr style=\"text-align: right;\">\n      <th></th>\n      <th>code</th>\n      <th>source</th>\n      <th>url</th>\n      <th>title</th>\n      <th>datetime</th>\n      <th>raw_text</th>\n      <th>cls_influence</th>\n      <th>prep_text</th>\n    </tr>\n  </thead>\n  <tbody>\n    <tr>\n      <th>0</th>\n      <td>BBAS3</td>\n      <td>InfoMoney</td>\n      <td>https://www.infomoney.com.br/mercados/dolar-de...</td>\n      <td>Dólar desacelera queda nesta tarde, com mercad...</td>\n      <td>2003-06-09 12:05:00</td>\n      <td>SÃO PAULO – Diante das melhores perspectivas p...</td>\n      <td>1</td>\n      <td>são paul di melhor perspec econom brasil dól c...</td>\n    </tr>\n    <tr>\n      <th>1</th>\n      <td>BBAS3</td>\n      <td>InfoMoney</td>\n      <td>https://www.infomoney.com.br/mercados/vencimen...</td>\n      <td>Vencimentos cambiais e ação do Banco do Brasil...</td>\n      <td>2003-11-14 13:50:00</td>\n      <td>SÃO PAULO – O dólar fechou em alta nesta sexta...</td>\n      <td>-1</td>\n      <td>são paul o dól fech alt nest sext feir sess ma...</td>\n    </tr>\n    <tr>\n      <th>2</th>\n      <td>BBAS3</td>\n      <td>InfoMoney</td>\n      <td>https://www.infomoney.com.br/mercados/banco-do...</td>\n      <td>Banco do Brasil reduz juros na antecipação da ...</td>\n      <td>2004-03-30 09:10:00</td>\n      <td>São Paulo – O Banco do Brasil anunciou que a p...</td>\n      <td>1</td>\n      <td>são paul o banc brasil anunci part dest terç f...</td>\n    </tr>\n    <tr>\n      <th>3</th>\n      <td>BBAS3</td>\n      <td>InfoMoney</td>\n      <td>https://www.infomoney.com.br/mercados/diretori...</td>\n      <td>Diretoria de Microcrédito do Banco do Brasil j...</td>\n      <td>2004-05-25 08:59:00</td>\n      <td>SÃO PAULO – O Banco do Brasil fortaleceu sua a...</td>\n      <td>1</td>\n      <td>são paul o banc brasil fortalec atu crédit mic...</td>\n    </tr>\n    <tr>\n      <th>4</th>\n      <td>BBAS3</td>\n      <td>InfoMoney</td>\n      <td>https://www.infomoney.com.br/mercados/banco-do...</td>\n      <td>Banco do Brasil estreita relações com micro e ...</td>\n      <td>2004-06-29 14:50:00</td>\n      <td>SÃO PAULO – O Banco do Brasil (BB) planeja est...</td>\n      <td>1</td>\n      <td>são paul o banc brasil bb planej estreit relaç...</td>\n    </tr>\n  </tbody>\n</table>\n</div>"
     },
     "metadata": {},
     "execution_count": 16
    }
   ],
   "source": [
    "news_df.head()"
   ]
  },
  {
   "cell_type": "code",
   "execution_count": 17,
   "metadata": {},
   "outputs": [],
   "source": [
    "train, test, cls_train, cls_test = train_test_split(news_df['prep_text'], \n",
    "                                                    news_df['cls_influence'],\n",
    "                                                    test_size = 0.1,\n",
    "                                                    random_state = 42)"
   ]
  },
  {
   "cell_type": "code",
   "execution_count": 18,
   "metadata": {},
   "outputs": [],
   "source": [
    "tfidf = TfidfVectorizer(ngram_range=(1,2)\n",
    "                        , max_df=0.5\n",
    "                        , sublinear_tf=True\n",
    "                        , max_features=20000)"
   ]
  },
  {
   "cell_type": "code",
   "execution_count": 19,
   "metadata": {},
   "outputs": [],
   "source": [
    "tfidf_train = tfidf.fit_transform(train)\n",
    "tfidf_test = tfidf.transform(test)"
   ]
  },
  {
   "cell_type": "code",
   "execution_count": 20,
   "metadata": {},
   "outputs": [
    {
     "output_type": "execute_result",
     "data": {
      "text/plain": [
       "bb dtvm          0.241424\n",
       "dtvm             0.226442\n",
       "gest recurs      0.218781\n",
       "process vend     0.170159\n",
       "vend bb          0.152205\n",
       "bb               0.151711\n",
       "feir decis       0.143720\n",
       "diss continu     0.142589\n",
       "materializ       0.142589\n",
       "retom process    0.140494\n",
       "bba comunic      0.139521\n",
       "font par         0.136846\n",
       "sob com          0.135235\n",
       "par assunt       0.134474\n",
       "próx mê          0.134474\n",
       "banc no          0.133740\n",
       "agreg val        0.133031\n",
       "pass após        0.129805\n",
       "ofert vincul     0.121520\n",
       "cit font         0.121122\n",
       "banc esper       0.117505\n",
       "font             0.116813\n",
       "gest             0.110307\n",
       "entreg           0.109308\n",
       "dia peg          0.106226\n",
       "peg vouch        0.106226\n",
       "quatr opç        0.106226\n",
       "vouch invest     0.106226\n",
       "interromp        0.105653\n",
       "opç barat        0.105653\n",
       "barat pod        0.105465\n",
       "sub dia          0.105465\n",
       "vouch            0.105279\n",
       "agreg            0.103847\n",
       "pod sub          0.102027\n",
       "ex presid        0.098397\n",
       "comunic nest     0.097871\n",
       "diss reut        0.097871\n",
       "peg              0.096366\n",
       "recurs           0.096296\n",
       "rub nova         0.095770\n",
       "nova             0.094626\n",
       "rub              0.093020\n",
       "na últ           0.092311\n",
       "âmbit            0.090136\n",
       "reut             0.089359\n",
       "últ sext         0.089343\n",
       "altern           0.088003\n",
       "process          0.085313\n",
       "notici           0.085270\n",
       "Name: 2, dtype: float64"
      ]
     },
     "metadata": {},
     "execution_count": 20
    }
   ],
   "source": [
    "df = DataFrame(tfidf_train.todense(), columns=tfidf.get_feature_names())\n",
    "df.loc[2].nlargest(50)\n"
   ]
  },
  {
   "cell_type": "code",
   "execution_count": 21,
   "metadata": {},
   "outputs": [
    {
     "output_type": "stream",
     "name": "stdout",
     "text": [
      "132     o banc brasil anunci nest terç feir bilhã plan...\n239     o banc brasil abr concurs públic total vag ime...\n511     o lucr líqu banc brasil bba cheg bilhã aument ...\n2197    a xp invest realiz dua mudanç cart recomend se...\n789     o banc brasil bba irá lanç abril port própri v...\n3439    negóci o dire relaç invest csn csn marcel cunh...\n6943    a via varej vv registr lucr líqu contável milh...\n6593    por paul arend lai são paul reut o ibovesp mos...\n2992    são paul a tempor result seg send destaqu aten...\n2476    a caix econôm feder fez ju apel banc habit lid...\nName: prep_text, dtype: object\n"
     ]
    }
   ],
   "source": [
    "print(test[:10])"
   ]
  },
  {
   "cell_type": "code",
   "execution_count": 22,
   "metadata": {},
   "outputs": [
    {
     "output_type": "execute_result",
     "data": {
      "text/plain": [
       "MultinomialNB()"
      ]
     },
     "metadata": {},
     "execution_count": 22
    }
   ],
   "source": [
    "model = MultinomialNB()\n",
    "model.fit(tfidf_train, cls_train)"
   ]
  },
  {
   "cell_type": "code",
   "execution_count": 23,
   "metadata": {},
   "outputs": [
    {
     "output_type": "execute_result",
     "data": {
      "text/plain": [
       "array([-1, -1, -1,  1, -1,  1, -1,  1,  1, -1,  1, -1,  1,  1,  1, -1,  1,\n",
       "        1,  1,  1, -1,  1, -1,  1, -1, -1, -1,  1,  1, -1,  1,  1,  1, -1,\n",
       "       -1, -1,  1, -1, -1,  1, -1, -1,  1, -1, -1,  1, -1, -1,  1, -1,  1,\n",
       "        1, -1, -1, -1,  1,  1, -1, -1, -1, -1, -1,  1,  1,  1, -1, -1,  1,\n",
       "        1,  1,  1,  1,  1,  1,  1, -1,  1,  1, -1, -1,  1, -1, -1, -1,  1,\n",
       "        1,  1,  1, -1,  1, -1, -1,  1, -1,  1,  1, -1, -1, -1, -1, -1, -1,\n",
       "       -1,  1,  1,  1,  1,  1,  1, -1, -1, -1,  1,  1,  1, -1,  1,  1, -1,\n",
       "        1,  1, -1,  1, -1, -1,  1,  1, -1,  1, -1,  1, -1,  1, -1,  1,  1,\n",
       "       -1,  1,  1,  1, -1,  1,  1, -1, -1, -1, -1, -1,  1, -1, -1, -1,  1,\n",
       "        1,  1, -1,  1, -1, -1, -1,  1, -1, -1, -1, -1,  1, -1,  1, -1, -1,\n",
       "       -1, -1,  1,  1,  1, -1, -1,  1, -1,  1,  1, -1,  1,  1, -1, -1, -1,\n",
       "       -1, -1, -1, -1,  1, -1, -1,  1, -1, -1,  1, -1, -1,  1,  1, -1, -1,\n",
       "        1, -1,  1,  1,  1, -1,  1, -1,  1, -1, -1,  1, -1, -1,  1,  1,  1,\n",
       "       -1,  1, -1,  1,  1,  1,  1,  1, -1, -1,  1, -1, -1, -1,  1, -1,  1,\n",
       "       -1, -1,  1, -1,  1,  1, -1,  1,  1,  1, -1, -1,  1, -1,  1, -1,  1,\n",
       "       -1,  1,  1,  1,  1, -1,  1,  1, -1, -1,  1,  1, -1,  1, -1, -1, -1,\n",
       "        1,  1, -1, -1,  1, -1, -1, -1, -1,  1,  1,  1, -1, -1,  1,  1,  1,\n",
       "       -1, -1, -1,  1,  1,  1, -1,  1, -1, -1,  1, -1,  1,  1, -1,  1, -1,\n",
       "        1, -1, -1,  1, -1, -1, -1,  1, -1, -1,  1, -1,  1,  1, -1,  1,  1,\n",
       "       -1, -1,  1, -1,  1, -1, -1, -1,  1,  1, -1, -1, -1,  1, -1, -1, -1,\n",
       "        1,  1,  1,  1, -1, -1, -1, -1,  1,  1, -1, -1,  1,  1, -1, -1,  1,\n",
       "       -1, -1, -1, -1,  1, -1,  1, -1,  1, -1, -1,  1, -1, -1, -1,  1, -1,\n",
       "       -1, -1,  1, -1,  1,  1, -1,  1, -1, -1, -1,  1, -1, -1,  1, -1,  1,\n",
       "        1, -1, -1, -1, -1, -1, -1,  1,  1, -1,  1, -1,  1, -1,  1,  1,  1,\n",
       "        1, -1,  1, -1, -1,  1, -1, -1, -1, -1, -1, -1,  1,  1,  1,  1, -1,\n",
       "       -1,  1,  1, -1, -1,  1,  1, -1, -1, -1,  1, -1, -1,  1,  1, -1, -1,\n",
       "        1,  1,  1, -1,  1, -1,  1, -1,  1, -1,  1, -1, -1, -1, -1,  1,  1,\n",
       "        1, -1,  1, -1, -1, -1,  1, -1, -1,  1, -1, -1, -1,  1, -1, -1, -1,\n",
       "        1,  1,  1,  1,  1, -1, -1, -1, -1,  1,  1, -1,  1,  1,  1, -1,  1,\n",
       "       -1,  1, -1, -1, -1,  1, -1,  1, -1, -1,  1, -1, -1,  1,  1,  1,  1,\n",
       "       -1, -1, -1, -1, -1,  1, -1,  1,  1, -1,  1, -1,  1, -1, -1,  1,  1,\n",
       "        1, -1, -1,  1,  1, -1, -1,  1, -1, -1,  1, -1, -1, -1,  1,  1, -1,\n",
       "        1, -1, -1,  1, -1, -1,  1, -1,  1, -1,  1,  1,  1, -1, -1,  1,  1,\n",
       "        1,  1,  1, -1,  1, -1, -1,  1, -1,  1,  1, -1, -1, -1, -1,  1,  1,\n",
       "        1,  1, -1, -1, -1, -1,  1,  1,  1,  1, -1,  1, -1, -1, -1, -1,  1,\n",
       "        1,  1, -1,  1, -1, -1,  1, -1, -1, -1,  1,  1,  1,  1,  1, -1,  1,\n",
       "        1, -1, -1,  1,  1, -1,  1, -1, -1, -1,  1, -1,  1,  1,  1, -1, -1,\n",
       "        1,  1, -1, -1, -1, -1,  1,  1, -1,  1,  1, -1, -1,  1, -1, -1, -1,\n",
       "       -1, -1, -1,  1,  1, -1, -1,  1, -1, -1,  1,  1,  1,  1,  1, -1,  1,\n",
       "       -1,  1, -1,  1,  1, -1, -1, -1, -1, -1,  1,  1, -1,  1, -1, -1, -1,\n",
       "       -1, -1,  1, -1, -1, -1, -1,  1, -1, -1,  1,  1,  1,  1, -1, -1, -1,\n",
       "       -1, -1,  1, -1, -1,  1, -1, -1, -1,  1], dtype=int64)"
      ]
     },
     "metadata": {},
     "execution_count": 23
    }
   ],
   "source": [
    "model.predict(tfidf_test)"
   ]
  },
  {
   "cell_type": "code",
   "execution_count": 24,
   "metadata": {},
   "outputs": [
    {
     "output_type": "stream",
     "name": "stdout",
     "text": [
      "Train accuracy:  0.7623762376237624\nTest accuracy:  0.6067892503536068\n"
     ]
    }
   ],
   "source": [
    "train_score = model.score(tfidf_train, cls_train)\n",
    "test_score = model.score(tfidf_test, cls_test)\n",
    "print('Train accuracy: ', train_score)\n",
    "print('Test accuracy: ', test_score)"
   ]
  }
 ]
}