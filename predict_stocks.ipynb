{
 "metadata": {
  "language_info": {
   "codemirror_mode": {
    "name": "ipython",
    "version": 3
   },
   "file_extension": ".py",
   "mimetype": "text/x-python",
   "name": "python",
   "nbconvert_exporter": "python",
   "pygments_lexer": "ipython3",
   "version": "3.8.8"
  },
  "orig_nbformat": 4,
  "kernelspec": {
   "name": "python3",
   "display_name": "Python 3.8.8 64-bit ('base': conda)"
  },
  "interpreter": {
   "hash": "01b3c0a945a59b323df80bd5882d6f2f9fc474040821776379d4f4116ecac8d8"
  }
 },
 "nbformat": 4,
 "nbformat_minor": 2,
 "cells": [
  {
   "cell_type": "code",
   "execution_count": 1,
   "metadata": {},
   "outputs": [],
   "source": [
    "from pandas import DataFrame, read_csv\n",
    "from pathlib import Path\n",
    "from pickle import load\n",
    "\n",
    "from text_preprocessing import apply_prep"
   ]
  },
  {
   "cell_type": "code",
   "execution_count": 2,
   "metadata": {},
   "outputs": [],
   "source": [
    "df = read_csv(r'news_csv.csv')"
   ]
  },
  {
   "cell_type": "code",
   "execution_count": 3,
   "metadata": {},
   "outputs": [],
   "source": [
    "df['prep_text'] = df['raw_text'].apply(apply_prep)"
   ]
  },
  {
   "cell_type": "code",
   "execution_count": 4,
   "metadata": {},
   "outputs": [],
   "source": [
    "with open(Path(r'BBAS3_tfidf'), 'rb') as f:\n",
    "    BBAS3_tfidf = load(f)\n",
    "with open(Path(r'BBDC4_tfidf'), 'rb') as f:\n",
    "    BBDC4_tfidf = load(f)\n",
    "with open(Path(r'CSNA3_tfidf'), 'rb') as f:\n",
    "    CSNA3_tfidf = load(f)\n",
    "with open(Path(r'PETR4_tfidf'), 'rb') as f:\n",
    "    PETR4_tfidf = load(f)\n",
    "with open(Path(r'VALE3_tfidf'), 'rb') as f:\n",
    "    VALE3_tfidf = load(f)\n",
    "with open(Path(r'VVAR3_tfidf'), 'rb') as f:\n",
    "    VVAR3_tfidf = load(f)"
   ]
  },
  {
   "cell_type": "code",
   "execution_count": 5,
   "metadata": {},
   "outputs": [],
   "source": [
    "with open(Path(r'BBAS3_pickle'), 'rb') as f:\n",
    "    BBAS3_model = load(f)\n",
    "with open(Path(r'BBDC4_pickle'), 'rb') as f:\n",
    "    BBDC4_model = load(f)\n",
    "with open(Path(r'CSNA3_pickle'), 'rb') as f:\n",
    "    CSNA3_model = load(f)\n",
    "with open(Path(r'PETR4_pickle'), 'rb') as f:\n",
    "    PETR4_model = load(f)\n",
    "with open(Path(r'VALE3_pickle'), 'rb') as f:\n",
    "    VALE3_model = load(f)\n",
    "with open(Path(r'VVAR3_pickle'), 'rb') as f:\n",
    "    VVAR3_model = load(f)"
   ]
  },
  {
   "cell_type": "code",
   "execution_count": 20,
   "metadata": {},
   "outputs": [
    {
     "output_type": "execute_result",
     "data": {
      "text/plain": [
       "    code     source                                                url  \\\n",
       "0  VVAR3  InfoMoney  https://www.infomoney.com.br/mercados/via-vvar...   \n",
       "1  VVAR3  InfoMoney  https://www.infomoney.com.br/mercados/ibovespa...   \n",
       "2  VVAR3  InfoMoney  https://www.infomoney.com.br/mercados/magalu-r...   \n",
       "3  PETR4  InfoMoney  https://www.infomoney.com.br/mercados/petrobra...   \n",
       "4  PETR4  InfoMoney  https://www.infomoney.com.br/mercados/petrobra...   \n",
       "\n",
       "                                               title                 datetime  \\\n",
       "0  Via (VVAR3) acelera com salto de 123% nas vend...  2021-05-13 14:28:03.000   \n",
       "1  Ibovespa fecha em alta de 1,2% com Petrobras e...  2021-05-24 17:36:33.000   \n",
       "2  Magalu, Renner, C&A e mais seis varejistas div...  2021-05-14 16:47:50.000   \n",
       "3  Petrobras: desconto das ações PETR3 ante as PE...  2021-05-28 10:12:25.000   \n",
       "4  Sinais de dividendos e de políticas pró-mercad...  2021-05-14 17:30:32.000   \n",
       "\n",
       "                                            raw_text  \\\n",
       "0  A Via ( VVAR3 , dona das Casas Bahia e do Pont...   \n",
       "1  SÃO PAULO – O Ibovespa fechou em alta nesta se...   \n",
       "2  SÃO PAULO – Na reta final da temporada de resu...   \n",
       "3  SÃO PAULO – Além do noticiário bastante movime...   \n",
       "4  SÃO PAULO – Num cenário de alta de preços de c...   \n",
       "\n",
       "                                           prep_text  pred  \n",
       "0  a via vv don cas bah pont fri registr lucr líq...    -1  \n",
       "1  são paul o ibovesp fech alt nest segund feir a...    -1  \n",
       "2  são paul na ret final tempor result divers var...    -1  \n",
       "3  são paul além notici bast moviment costum rond...    -1  \n",
       "4  são paul num cen alt preç commoditi petrobr pe...    -1  "
      ],
      "text/html": "<div>\n<style scoped>\n    .dataframe tbody tr th:only-of-type {\n        vertical-align: middle;\n    }\n\n    .dataframe tbody tr th {\n        vertical-align: top;\n    }\n\n    .dataframe thead th {\n        text-align: right;\n    }\n</style>\n<table border=\"1\" class=\"dataframe\">\n  <thead>\n    <tr style=\"text-align: right;\">\n      <th></th>\n      <th>code</th>\n      <th>source</th>\n      <th>url</th>\n      <th>title</th>\n      <th>datetime</th>\n      <th>raw_text</th>\n      <th>prep_text</th>\n      <th>pred</th>\n    </tr>\n  </thead>\n  <tbody>\n    <tr>\n      <th>0</th>\n      <td>VVAR3</td>\n      <td>InfoMoney</td>\n      <td>https://www.infomoney.com.br/mercados/via-vvar...</td>\n      <td>Via (VVAR3) acelera com salto de 123% nas vend...</td>\n      <td>2021-05-13 14:28:03.000</td>\n      <td>A Via ( VVAR3 , dona das Casas Bahia e do Pont...</td>\n      <td>a via vv don cas bah pont fri registr lucr líq...</td>\n      <td>-1</td>\n    </tr>\n    <tr>\n      <th>1</th>\n      <td>VVAR3</td>\n      <td>InfoMoney</td>\n      <td>https://www.infomoney.com.br/mercados/ibovespa...</td>\n      <td>Ibovespa fecha em alta de 1,2% com Petrobras e...</td>\n      <td>2021-05-24 17:36:33.000</td>\n      <td>SÃO PAULO – O Ibovespa fechou em alta nesta se...</td>\n      <td>são paul o ibovesp fech alt nest segund feir a...</td>\n      <td>-1</td>\n    </tr>\n    <tr>\n      <th>2</th>\n      <td>VVAR3</td>\n      <td>InfoMoney</td>\n      <td>https://www.infomoney.com.br/mercados/magalu-r...</td>\n      <td>Magalu, Renner, C&amp;A e mais seis varejistas div...</td>\n      <td>2021-05-14 16:47:50.000</td>\n      <td>SÃO PAULO – Na reta final da temporada de resu...</td>\n      <td>são paul na ret final tempor result divers var...</td>\n      <td>-1</td>\n    </tr>\n    <tr>\n      <th>3</th>\n      <td>PETR4</td>\n      <td>InfoMoney</td>\n      <td>https://www.infomoney.com.br/mercados/petrobra...</td>\n      <td>Petrobras: desconto das ações PETR3 ante as PE...</td>\n      <td>2021-05-28 10:12:25.000</td>\n      <td>SÃO PAULO – Além do noticiário bastante movime...</td>\n      <td>são paul além notici bast moviment costum rond...</td>\n      <td>-1</td>\n    </tr>\n    <tr>\n      <th>4</th>\n      <td>PETR4</td>\n      <td>InfoMoney</td>\n      <td>https://www.infomoney.com.br/mercados/petrobra...</td>\n      <td>Sinais de dividendos e de políticas pró-mercad...</td>\n      <td>2021-05-14 17:30:32.000</td>\n      <td>SÃO PAULO – Num cenário de alta de preços de c...</td>\n      <td>são paul num cen alt preç commoditi petrobr pe...</td>\n      <td>-1</td>\n    </tr>\n  </tbody>\n</table>\n</div>"
     },
     "metadata": {},
     "execution_count": 20
    }
   ],
   "source": [
    "df.head()"
   ]
  },
  {
   "cell_type": "code",
   "execution_count": 14,
   "metadata": {},
   "outputs": [],
   "source": [
    "def predict(tfidf, model, prep_text):\n",
    "    t = tfidf.transform(prep_text)\n",
    "    p = model.predict(t)\n",
    "    return p[0]"
   ]
  },
  {
   "cell_type": "code",
   "execution_count": 15,
   "metadata": {},
   "outputs": [],
   "source": [
    "pred = []\n",
    "for i, row in df.iterrows():\n",
    "    if   row['code'] == 'BBAS3':\n",
    "        pred.append(predict(BBAS3_tfidf, BBAS3_model, [row['prep_text']]))\n",
    "    elif row['code'] == 'BBDC4':\n",
    "        pred.append(predict(BBDC4_tfidf, BBDC4_model, [row['prep_text']]))\n",
    "    elif row['code'] == 'CSNA3':\n",
    "        pred.append(predict(CSNA3_tfidf, CSNA3_model, [row['prep_text']]))\n",
    "    elif row['code'] == 'PETR4':\n",
    "        pred.append(predict(PETR4_tfidf, PETR4_model, [row['prep_text']]))\n",
    "    elif row['code'] == 'VALE3':\n",
    "        pred.append(predict(VALE3_tfidf, VALE3_model, [row['prep_text']]))\n",
    "    elif row['code'] == 'VVAR3':\n",
    "        pred.append(predict(VVAR3_tfidf, VVAR3_model, [row['prep_text']]))\n"
   ]
  },
  {
   "cell_type": "code",
   "execution_count": 17,
   "metadata": {},
   "outputs": [],
   "source": [
    "df['pred'] = pred"
   ]
  },
  {
   "cell_type": "code",
   "execution_count": 21,
   "metadata": {},
   "outputs": [],
   "source": [
    "df.to_csv('predictions.csv', index=False)"
   ]
  }
 ]
}