{
 "metadata": {
  "language_info": {
   "codemirror_mode": {
    "name": "ipython",
    "version": 3
   },
   "file_extension": ".py",
   "mimetype": "text/x-python",
   "name": "python",
   "nbconvert_exporter": "python",
   "pygments_lexer": "ipython3",
   "version": "3.8.8-final"
  },
  "orig_nbformat": 2,
  "kernelspec": {
   "name": "python3",
   "display_name": "Python 3",
   "language": "python"
  }
 },
 "nbformat": 4,
 "nbformat_minor": 2,
 "cells": [
  {
   "cell_type": "code",
   "execution_count": 82,
   "metadata": {},
   "outputs": [],
   "source": [
    "from selenium import webdriver\n",
    "from selenium.webdriver.support.ui import WebDriverWait\n",
    "from selenium.webdriver.common.keys import Keys\n",
    "from selenium.webdriver.common.by import By\n",
    "from selenium.webdriver.support.expected_conditions import presence_of_element_located\n",
    "from selenium.common.exceptions import NoSuchElementException"
   ]
  },
  {
   "cell_type": "code",
   "execution_count": 83,
   "metadata": {},
   "outputs": [],
   "source": [
    "# Parametros de busca\n",
    "cod = 'BBAS3'\n",
    "# cod = 'VALE3'\n",
    "# cod = 'PETR4'\n",
    "# cod = 'VVAR3'\n",
    "# cod = 'CSNA3'\n",
    "# cod = 'BBDC4'\n",
    "\n",
    "source = 'Suno'\n",
    "# source = 'InfoM'\n",
    "# source = 'MTimes'\n",
    "\n",
    "aditional = '-inurl:page'\n",
    "# aditional = ''\n",
    "\n",
    "# site = 'www.moneytimes.com.br' # -inurl:page\n",
    "site = 'www.suno.com.br/noticias' # -inurl:page\n",
    "# site = 'www.infomoney.com.br/mercados' # -inurl:/amp/"
   ]
  },
  {
   "cell_type": "code",
   "execution_count": 84,
   "metadata": {},
   "outputs": [],
   "source": [
    "from pathlib import Path\n",
    "output_dir = Path(f'C:/Users/aliss/Estudos/IGTI_ML/PA/arquivos/links_{cod}_{source}.txt')"
   ]
  },
  {
   "cell_type": "code",
   "execution_count": 85,
   "metadata": {},
   "outputs": [],
   "source": [
    "driver = webdriver.Firefox()\n",
    "driver.implicitly_wait(50) # seconds\n",
    "wait = WebDriverWait(driver, 3)\n",
    "driver.get(r'https://www.google.com/')\n",
    "driver.maximize_window()"
   ]
  },
  {
   "cell_type": "code",
   "execution_count": 86,
   "metadata": {},
   "outputs": [],
   "source": [
    "driver.find_element(By.NAME, 'q').send_keys(f'\"{cod}\" site:{site} {aditional}{Keys.RETURN}')"
   ]
  },
  {
   "cell_type": "code",
   "execution_count": 87,
   "metadata": {},
   "outputs": [],
   "source": [
    "with open(output_dir, 'w') as out_file:\n",
    "    while True:\n",
    "        links = driver.find_elements(By.XPATH, '//a[child::H3]')\n",
    "        for link in links:\n",
    "            out_file.write(link.get_attribute(\"href\") + '\\n')\n",
    "        try:\n",
    "            next_page = driver.find_element(By.ID, 'pnnext').click()\n",
    "        except NoSuchElementException:\n",
    "            break\n",
    "        except:\n",
    "            print(\"Error: Could not locate element.\")"
   ]
  },
  {
   "cell_type": "code",
   "execution_count": 88,
   "metadata": {},
   "outputs": [],
   "source": [
    "driver.close()"
   ]
  },
  {
   "cell_type": "code",
   "execution_count": null,
   "metadata": {},
   "outputs": [],
   "source": []
  }
 ]
}