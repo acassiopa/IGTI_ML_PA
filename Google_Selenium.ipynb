{
 "metadata": {
  "language_info": {
   "codemirror_mode": {
    "name": "ipython",
    "version": 3
   },
   "file_extension": ".py",
   "mimetype": "text/x-python",
   "name": "python",
   "nbconvert_exporter": "python",
   "pygments_lexer": "ipython3",
   "version": "3.8.3"
  },
  "orig_nbformat": 2,
  "kernelspec": {
   "name": "python3",
   "display_name": "Python 3",
   "language": "python"
  }
 },
 "nbformat": 4,
 "nbformat_minor": 2,
 "cells": [
  {
   "cell_type": "code",
   "execution_count": 1,
   "metadata": {},
   "outputs": [],
   "source": [
    "from selenium import webdriver\n",
    "from selenium.webdriver.support.ui import WebDriverWait\n",
    "from selenium.webdriver.common.keys import Keys\n",
    "from selenium.webdriver.common.by import By\n",
    "from selenium.webdriver.support.expected_conditions import presence_of_element_located\n",
    "from selenium.common.exceptions import NoSuchElementException"
   ]
  },
  {
   "cell_type": "code",
   "execution_count": 2,
   "metadata": {},
   "outputs": [],
   "source": [
    "from pathlib import Path\n",
    "output_dir = Path('C:/Users/aliss/Estudos/IGTI_ML/PA/arquivos/links_InfoMoney_all.txt')"
   ]
  },
  {
   "cell_type": "code",
   "execution_count": 3,
   "metadata": {},
   "outputs": [],
   "source": [
    "driver = webdriver.Firefox()\n",
    "driver.implicitly_wait(10) # seconds\n",
    "wait = WebDriverWait(driver, 3)\n",
    "driver.get(r'https://www.google.com/')\n",
    "driver.maximize_window()"
   ]
  },
  {
   "cell_type": "code",
   "execution_count": 4,
   "metadata": {},
   "outputs": [],
   "source": [
    "# driver.find_element(By.NAME, 'q').send_keys(r'site:infomoney.com.br/mercados \"banco do brasil\"' + Keys.RETURN)\n",
    "# driver.find_element(By.NAME, 'q').send_keys(r'site:infomoney.com.br/mercados \"banco do brasil\"' + Keys.RETURN)\n",
    "# driver.find_element(By.NAME, 'q').send_keys(r'site:infomoney.com.br/mercados \"banco do brasil\"' + Keys.RETURN)\n",
    "# driver.find_element(By.NAME, 'q').send_keys(r'site:infomoney.com.br/mercados \"banco do brasil\"' + Keys.RETURN)\n",
    "# driver.find_element(By.NAME, 'q').send_keys(r'site:infomoney.com.br/mercados \"banco do brasil\"' + Keys.RETURN)"
   ]
  },
  {
   "cell_type": "code",
   "execution_count": 5,
   "metadata": {},
   "outputs": [],
   "source": [
    "with open(output_dir, 'w') as out_file:\n",
    "    while True:\n",
    "        links = driver.find_elements(By.XPATH, '//a[child::H3]')\n",
    "        for link in links:\n",
    "            out_file.write(link.get_attribute(\"href\") + '\\n')\n",
    "        try:\n",
    "            next_page = driver.find_element(By.ID, 'pnnext').click()\n",
    "        except NoSuchElementException:\n",
    "            break\n",
    "        except:\n",
    "            print(\"Error: Could not locate element.\")"
   ]
  },
  {
   "cell_type": "code",
   "execution_count": 6,
   "metadata": {},
   "outputs": [],
   "source": [
    "driver.close()"
   ]
  },
  {
   "cell_type": "code",
   "execution_count": null,
   "metadata": {},
   "outputs": [],
   "source": []
  }
 ]
}